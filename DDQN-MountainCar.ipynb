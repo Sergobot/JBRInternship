{
 "cells": [
  {
   "cell_type": "code",
   "execution_count": 1,
   "metadata": {
    "pycharm": {
     "is_executing": false
    }
   },
   "outputs": [],
   "source": [
    "import torch\n",
    "from torch import nn, optim\n",
    "import torch.nn.functional as F\n",
    "import gym\n",
    "import numpy as np\n",
    "from itertools import count\n",
    "from tqdm.notebook import tqdm\n",
    "from my_utils import ReplayBuffer, construct_nn, Logger"
   ]
  },
  {
   "cell_type": "code",
   "execution_count": 2,
   "metadata": {
    "pycharm": {
     "is_executing": false
    }
   },
   "outputs": [],
   "source": [
    "SEED = 11\n",
    "torch.manual_seed(SEED)\n",
    "np.random.seed(SEED)"
   ]
  },
  {
   "cell_type": "code",
   "execution_count": 3,
   "metadata": {
    "pycharm": {
     "is_executing": false
    }
   },
   "outputs": [],
   "source": [
    "dev = torch.device('cuda') if torch.cuda.is_available() else torch.device('cpu')"
   ]
  },
  {
   "cell_type": "code",
   "execution_count": 4,
   "metadata": {},
   "outputs": [],
   "source": [
    "class DDQN(nn.Module):\n",
    "    def __init__(self, obs_dim, act_dim, sizes):\n",
    "        super().__init__()\n",
    "        self.policy = construct_nn([obs_dim] + sizes + [act_dim])\n",
    "        self.target = construct_nn([obs_dim] + sizes + [act_dim])\n",
    "        self.target.load_state_dict(self.policy.state_dict())\n",
    "        self.target.eval()\n",
    "    \n",
    "    def act(self, obs):\n",
    "        with torch.no_grad():\n",
    "            return self.policy(obs).max(0)[1].view(1, 1)"
   ]
  },
  {
   "cell_type": "code",
   "execution_count": 5,
   "metadata": {
    "pycharm": {
     "is_executing": false
    }
   },
   "outputs": [],
   "source": [
    "BATCH_SIZE = 32\n",
    "GAMMA = 0.99\n",
    "TARGET_UPDATE = 10\n",
    "TARGET_UPDATE_AFTER = 30\n",
    "NETWORK_SIZES = [24, 48]\n",
    "MAX_LEN = 200\n",
    "EPS_START = 0.95\n",
    "EPS_END = 0.05\n",
    "EPS_DECAY = 5000\n",
    "\n",
    "EPOCHS = 10\n",
    "EPISODES_PER_EPOCH = 50\n",
    "\n",
    "start = 0\n",
    "total_steps = 0\n",
    "\n",
    "def avg(l): return sum(l) / len(l)\n",
    "\n",
    "logger = Logger()\n",
    "logger.add_attribute('ret', [max, avg])\n",
    "logger.add_attribute('len', [min, avg])\n",
    "logger.add_attribute('loss', [sum])"
   ]
  },
  {
   "cell_type": "code",
   "execution_count": 6,
   "metadata": {
    "pycharm": {
     "is_executing": false
    }
   },
   "outputs": [],
   "source": [
    "env = gym.make('MountainCar-v0')\n",
    "env.seed(SEED)\n",
    "obs_dim = env.observation_space.shape[0]\n",
    "act_dim = env.action_space.n"
   ]
  },
  {
   "cell_type": "code",
   "execution_count": 7,
   "metadata": {},
   "outputs": [],
   "source": [
    "buffer = ReplayBuffer(obs_dim, 1, 100000, dev)"
   ]
  },
  {
   "cell_type": "code",
   "execution_count": 8,
   "metadata": {
    "pycharm": {
     "is_executing": false
    }
   },
   "outputs": [],
   "source": [
    "ddqn = DDQN(obs_dim, act_dim, NETWORK_SIZES).to(dev)\n",
    "ddqn_optimizer = optim.Adam(ddqn.policy.parameters())"
   ]
  },
  {
   "cell_type": "code",
   "execution_count": 9,
   "metadata": {},
   "outputs": [],
   "source": [
    "def compute_loss(q, q_exp):\n",
    "    return F.mse_loss(q, q_exp)"
   ]
  },
  {
   "cell_type": "code",
   "execution_count": 10,
   "metadata": {},
   "outputs": [],
   "source": [
    "def select_action(obs):\n",
    "    eps = np.random.random(1)[0]\n",
    "    eps_threshold = EPS_END + (EPS_START - EPS_END) * np.exp(-1. * total_steps / EPS_DECAY)\n",
    "    if eps > eps_threshold:\n",
    "        return ddqn.act(obs).item()\n",
    "    else:\n",
    "        return np.random.choice(act_dim)"
   ]
  },
  {
   "cell_type": "code",
   "execution_count": 11,
   "metadata": {},
   "outputs": [],
   "source": [
    "def optimize():\n",
    "    if len(buffer) < BATCH_SIZE:\n",
    "        return\n",
    "    \n",
    "    batch = buffer.sample_batch(BATCH_SIZE)\n",
    "    obs, act, rew, next_obs, done = \\\n",
    "            batch['obs'], batch['act'], batch['rew'], batch['next_obs'], batch['done']\n",
    "    \n",
    "    q = ddqn.policy(obs).gather(1, act.long())\n",
    "    q_best_by_policy = ddqn.policy(obs).max(1)[1].detach()\n",
    "    q_next = ddqn.target(obs).gather(1, q_best_by_policy.view(-1, 1)).squeeze().detach()\n",
    "    q_exp = q_next * GAMMA * (1 - done) + rew\n",
    "    \n",
    "    loss = compute_loss(q, q_exp.unsqueeze(1))\n",
    "    logger.put('loss', loss.item())\n",
    "    \n",
    "    ddqn_optimizer.zero_grad()\n",
    "    loss.backward()\n",
    "    ddqn_optimizer.step()"
   ]
  },
  {
   "cell_type": "code",
   "execution_count": 12,
   "metadata": {
    "scrolled": false
   },
   "outputs": [
    {
     "data": {
      "application/vnd.jupyter.widget-view+json": {
       "model_id": "729cf4f31b7e430d9462e15f871bb09e",
       "version_major": 2,
       "version_minor": 0
      },
      "text/plain": [
       "HBox(children=(FloatProgress(value=0.0, description='[0]', max=50.0, style=ProgressStyle(description_width='in…"
      ]
     },
     "metadata": {},
     "output_type": "display_data"
    },
    {
     "name": "stdout",
     "output_type": "stream",
     "text": [
      "\n",
      "[0] Done: ret_max=-200.0000; ret_avg=-200.0000; len_min=200.0000; len_avg=200.0000; loss_sum=88.5227\n"
     ]
    },
    {
     "data": {
      "application/vnd.jupyter.widget-view+json": {
       "model_id": "63d6308573d34a17823635e169e08f1f",
       "version_major": 2,
       "version_minor": 0
      },
      "text/plain": [
       "HBox(children=(FloatProgress(value=0.0, description='[1]', max=50.0, style=ProgressStyle(description_width='in…"
      ]
     },
     "metadata": {},
     "output_type": "display_data"
    },
    {
     "name": "stdout",
     "output_type": "stream",
     "text": [
      "\n",
      "[1] Done: ret_max=-200.0000; ret_avg=-200.0000; len_min=200.0000; len_avg=200.0000; loss_sum=5.3837\n"
     ]
    },
    {
     "data": {
      "application/vnd.jupyter.widget-view+json": {
       "model_id": "f0cfb43fc29048a3b40bb2e1ee5a73cf",
       "version_major": 2,
       "version_minor": 0
      },
      "text/plain": [
       "HBox(children=(FloatProgress(value=0.0, description='[2]', max=50.0, style=ProgressStyle(description_width='in…"
      ]
     },
     "metadata": {},
     "output_type": "display_data"
    },
    {
     "name": "stdout",
     "output_type": "stream",
     "text": [
      "\n",
      "[2] Done: ret_max=-200.0000; ret_avg=-200.0000; len_min=200.0000; len_avg=200.0000; loss_sum=4.8975\n"
     ]
    },
    {
     "data": {
      "application/vnd.jupyter.widget-view+json": {
       "model_id": "b9ca7762de7a4779bd029a142fc857dd",
       "version_major": 2,
       "version_minor": 0
      },
      "text/plain": [
       "HBox(children=(FloatProgress(value=0.0, description='[3]', max=50.0, style=ProgressStyle(description_width='in…"
      ]
     },
     "metadata": {},
     "output_type": "display_data"
    },
    {
     "name": "stdout",
     "output_type": "stream",
     "text": [
      "\n",
      "[3] Done: ret_max=-200.0000; ret_avg=-200.0000; len_min=200.0000; len_avg=200.0000; loss_sum=4.6178\n"
     ]
    },
    {
     "data": {
      "application/vnd.jupyter.widget-view+json": {
       "model_id": "37120a213a2d4e62ac17333441d5f9de",
       "version_major": 2,
       "version_minor": 0
      },
      "text/plain": [
       "HBox(children=(FloatProgress(value=0.0, description='[4]', max=50.0, style=ProgressStyle(description_width='in…"
      ]
     },
     "metadata": {},
     "output_type": "display_data"
    },
    {
     "name": "stdout",
     "output_type": "stream",
     "text": [
      "\n",
      "[4] Done: ret_max=-200.0000; ret_avg=-200.0000; len_min=200.0000; len_avg=200.0000; loss_sum=4.4215\n"
     ]
    },
    {
     "data": {
      "application/vnd.jupyter.widget-view+json": {
       "model_id": "3ab39551bec54323a4f53d71aede2f61",
       "version_major": 2,
       "version_minor": 0
      },
      "text/plain": [
       "HBox(children=(FloatProgress(value=0.0, description='[5]', max=50.0, style=ProgressStyle(description_width='in…"
      ]
     },
     "metadata": {},
     "output_type": "display_data"
    },
    {
     "name": "stdout",
     "output_type": "stream",
     "text": [
      "\n",
      "[5] Done: ret_max=-200.0000; ret_avg=-200.0000; len_min=200.0000; len_avg=200.0000; loss_sum=4.3449\n"
     ]
    },
    {
     "data": {
      "application/vnd.jupyter.widget-view+json": {
       "model_id": "171234f764574a02837dfa67fe837583",
       "version_major": 2,
       "version_minor": 0
      },
      "text/plain": [
       "HBox(children=(FloatProgress(value=0.0, description='[6]', max=50.0, style=ProgressStyle(description_width='in…"
      ]
     },
     "metadata": {},
     "output_type": "display_data"
    },
    {
     "name": "stdout",
     "output_type": "stream",
     "text": [
      "\n",
      "[6] Done: ret_max=-200.0000; ret_avg=-200.0000; len_min=200.0000; len_avg=200.0000; loss_sum=4.2509\n"
     ]
    },
    {
     "data": {
      "application/vnd.jupyter.widget-view+json": {
       "model_id": "c6e8eeab465c42dba370203f27751a5a",
       "version_major": 2,
       "version_minor": 0
      },
      "text/plain": [
       "HBox(children=(FloatProgress(value=0.0, description='[7]', max=50.0, style=ProgressStyle(description_width='in…"
      ]
     },
     "metadata": {},
     "output_type": "display_data"
    },
    {
     "name": "stdout",
     "output_type": "stream",
     "text": [
      "\n",
      "[7] Done: ret_max=-200.0000; ret_avg=-200.0000; len_min=200.0000; len_avg=200.0000; loss_sum=3.9854\n"
     ]
    },
    {
     "data": {
      "application/vnd.jupyter.widget-view+json": {
       "model_id": "5e1d0df1a9ea411fab6b2d273445d906",
       "version_major": 2,
       "version_minor": 0
      },
      "text/plain": [
       "HBox(children=(FloatProgress(value=0.0, description='[8]', max=50.0, style=ProgressStyle(description_width='in…"
      ]
     },
     "metadata": {},
     "output_type": "display_data"
    },
    {
     "name": "stdout",
     "output_type": "stream",
     "text": [
      "\n",
      "[8] Done: ret_max=-200.0000; ret_avg=-200.0000; len_min=200.0000; len_avg=200.0000; loss_sum=3.8801\n"
     ]
    },
    {
     "data": {
      "application/vnd.jupyter.widget-view+json": {
       "model_id": "2d8a17b33f3c4605aed93d74ed9b441b",
       "version_major": 2,
       "version_minor": 0
      },
      "text/plain": [
       "HBox(children=(FloatProgress(value=0.0, description='[9]', max=50.0, style=ProgressStyle(description_width='in…"
      ]
     },
     "metadata": {},
     "output_type": "display_data"
    },
    {
     "name": "stdout",
     "output_type": "stream",
     "text": [
      "\n",
      "[9] Done: ret_max=-195.0000; ret_avg=-199.9000; len_min=195.0000; len_avg=199.9000; loss_sum=4.0827\n",
      "Complete!\n",
      "CPU times: user 5min 14s, sys: 3.86 s, total: 5min 18s\n",
      "Wall time: 5min 33s\n"
     ]
    }
   ],
   "source": [
    "%%time\n",
    "for epoch in range(EPOCHS):\n",
    "    for episode in tqdm(range(EPISODES_PER_EPOCH), desc=f'[{epoch}]'):\n",
    "        obs = torch.as_tensor(env.reset(), dtype=torch.float32).to(dev)\n",
    "        ep_ret = 0\n",
    "        ep_len = 0\n",
    "        ep_loss = 0\n",
    "        for t in count():\n",
    "            act = select_action(obs)\n",
    "\n",
    "            next_obs, rew, done, _ = env.step(act)\n",
    "\n",
    "            ep_ret += rew\n",
    "            ep_len += 1\n",
    "            total_steps += 1\n",
    "                        \n",
    "            if episode == 0:\n",
    "                env.render()\n",
    "\n",
    "            next_obs = torch.as_tensor(next_obs, dtype=torch.float32).to(dev)\n",
    "            done = False if ep_len == MAX_LEN else done\n",
    "            buffer.put(obs, act, rew, next_obs, done)\n",
    "            \n",
    "            obs = next_obs\n",
    "            \n",
    "            optimize()\n",
    "            if done or ep_len == MAX_LEN:\n",
    "                break\n",
    "        logger.put('ret', ep_ret)\n",
    "        logger.put('len', ep_len)\n",
    "        if episode % TARGET_UPDATE == 0 and episode > TARGET_UPDATE_AFTER:\n",
    "            ddqn.target.load_state_dict(ddqn.policy.state_dict())\n",
    "    print(f'[{epoch}] Done: {logger.summarize()}')\n",
    "print('Complete!')\n",
    "env.close()"
   ]
  }
 ],
 "metadata": {
  "file_extension": ".py",
  "kernelspec": {
   "display_name": "Python 3.7.7 64-bit ('jbr': conda)",
   "language": "python",
   "name": "python37764bitjbrcondafc333f67bcd147e89e693bf7996d3af5"
  },
  "language_info": {
   "codemirror_mode": {
    "name": "ipython",
    "version": 3
   },
   "file_extension": ".py",
   "mimetype": "text/x-python",
   "name": "python",
   "nbconvert_exporter": "python",
   "pygments_lexer": "ipython3",
   "version": "3.7.7"
  },
  "mimetype": "text/x-python",
  "name": "python",
  "npconvert_exporter": "python",
  "pycharm": {
   "stem_cell": {
    "cell_type": "raw",
    "metadata": {
     "collapsed": false
    },
    "source": []
   }
  },
  "pygments_lexer": "ipython3",
  "version": 3
 },
 "nbformat": 4,
 "nbformat_minor": 4
}
