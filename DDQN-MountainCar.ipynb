{
 "cells": [
  {
   "cell_type": "code",
   "execution_count": null,
   "metadata": {
    "pycharm": {
     "is_executing": false
    }
   },
   "outputs": [],
   "source": [
    "import torch\n",
    "from torch import nn, optim\n",
    "import torch.nn.functional as F\n",
    "import gym\n",
    "from gym import wrappers\n",
    "import numpy as np\n",
    "from itertools import count\n",
    "from tqdm.notebook import tqdm\n",
    "from time import time\n",
    "import os\n",
    "import pathlib\n",
    "from torch.utils.tensorboard import SummaryWriter\n",
    "from my_utils import ReplayBuffer, construct_nn, Logger"
   ]
  },
  {
   "cell_type": "code",
   "execution_count": null,
   "metadata": {},
   "outputs": [],
   "source": [
    "%load_ext tensorboard"
   ]
  },
  {
   "cell_type": "code",
   "execution_count": null,
   "metadata": {
    "pycharm": {
     "is_executing": false
    }
   },
   "outputs": [],
   "source": [
    "SEED = 11\n",
    "torch.manual_seed(SEED)\n",
    "np.random.seed(SEED)"
   ]
  },
  {
   "cell_type": "code",
   "execution_count": null,
   "metadata": {
    "pycharm": {
     "is_executing": false
    }
   },
   "outputs": [],
   "source": [
    "dev = torch.device('cuda') if torch.cuda.is_available() else torch.device('cpu')"
   ]
  },
  {
   "cell_type": "code",
   "execution_count": null,
   "metadata": {},
   "outputs": [],
   "source": [
    "class DDQN(nn.Module):\n",
    "    def __init__(self, obs_dim, act_dim, sizes):\n",
    "        super().__init__()\n",
    "        self.policy = construct_nn([obs_dim] + sizes + [act_dim])\n",
    "        self.target = construct_nn([obs_dim] + sizes + [act_dim])\n",
    "        self.target.load_state_dict(self.policy.state_dict())\n",
    "        self.target.eval()\n",
    "    \n",
    "    def act(self, obs):\n",
    "        with torch.no_grad():\n",
    "            return self.policy(obs).max(0)[1].view(1, 1)"
   ]
  },
  {
   "cell_type": "code",
   "execution_count": null,
   "metadata": {
    "pycharm": {
     "is_executing": false
    }
   },
   "outputs": [],
   "source": [
    "BATCH_SIZE = 32\n",
    "GAMMA = 0.99\n",
    "TARGET_UPDATE = 10\n",
    "TARGET_UPDATE_AFTER = 30\n",
    "NETWORK_SIZES = [24, 48]\n",
    "MAX_LEN = 200\n",
    "EPS_START = 0.95\n",
    "EPS_END = 0.05\n",
    "EPS_DECAY = 5000\n",
    "\n",
    "EPOCHS = 10\n",
    "EPISODES_PER_EPOCH = 50\n",
    "RENDER_PER_EPOCH = 2\n",
    "\n",
    "total_steps = 0\n",
    "\n",
    "def avg(l): return sum(l) / len(l)\n",
    "\n",
    "logger = Logger()\n",
    "logger.add_attribute('ret', [max, avg])\n",
    "logger.add_attribute('len', [min, avg])\n",
    "logger.add_attribute('loss', [avg])\n",
    "logger.add_attribute('q', [avg])\n",
    "\n",
    "RUN_ID = str(time())\n",
    "RUN_PATH = f'./ddqn/{RUN_ID}'\n",
    "if not os.path.exists(RUN_PATH) or not os.path.isdir(RUN_PATH):\n",
    "    pathlib.Path(RUN_PATH).mkdir(parents=True, exist_ok=True)\n",
    "    \n",
    "TENSORBOARD_PATH = f'./ddqn/tensorboard'\n",
    "writer = SummaryWriter(f'{TENSORBOARD_PATH}/{RUN_ID}')"
   ]
  },
  {
   "cell_type": "code",
   "execution_count": null,
   "metadata": {
    "pycharm": {
     "is_executing": false
    }
   },
   "outputs": [],
   "source": [
    "env = gym.make('MountainCar-v0')\n",
    "env.seed(SEED)\n",
    "obs_dim = env.observation_space.shape[0]\n",
    "act_dim = env.action_space.n"
   ]
  },
  {
   "cell_type": "code",
   "execution_count": null,
   "metadata": {},
   "outputs": [],
   "source": [
    "RENDER_THIS = False\n",
    "env = wrappers.Monitor(env, f'{RUN_PATH}/videos/', video_callable=lambda episode_id: RENDER_THIS)"
   ]
  },
  {
   "cell_type": "code",
   "execution_count": null,
   "metadata": {},
   "outputs": [],
   "source": [
    "buffer = ReplayBuffer(obs_dim, 1, 100000, dev)"
   ]
  },
  {
   "cell_type": "code",
   "execution_count": null,
   "metadata": {
    "pycharm": {
     "is_executing": false
    }
   },
   "outputs": [],
   "source": [
    "ddqn = DDQN(obs_dim, act_dim, NETWORK_SIZES).to(dev)\n",
    "ddqn_optimizer = optim.Adam(ddqn.policy.parameters())"
   ]
  },
  {
   "cell_type": "code",
   "execution_count": null,
   "metadata": {},
   "outputs": [],
   "source": [
    "def compute_loss(q, q_exp):\n",
    "    return F.mse_loss(q, q_exp)"
   ]
  },
  {
   "cell_type": "code",
   "execution_count": null,
   "metadata": {},
   "outputs": [],
   "source": [
    "def select_action(obs, randomize=True):\n",
    "    if randomize:\n",
    "        eps = np.random.random(1)[0]\n",
    "        eps_threshold = EPS_END + (EPS_START - EPS_END) * np.exp(-1. * total_steps / EPS_DECAY)\n",
    "        if eps > eps_threshold:\n",
    "            return ddqn.act(obs).item()\n",
    "    return np.random.choice(act_dim)"
   ]
  },
  {
   "cell_type": "code",
   "execution_count": null,
   "metadata": {},
   "outputs": [],
   "source": [
    "def optimize():\n",
    "    if len(buffer) < BATCH_SIZE:\n",
    "        return\n",
    "    \n",
    "    batch = buffer.sample_batch(BATCH_SIZE)\n",
    "    obs, act, rew, next_obs, done = \\\n",
    "            batch['obs'], batch['act'], batch['rew'], batch['next_obs'], batch['done']\n",
    "    \n",
    "    q = ddqn.policy(obs).gather(1, act.long())\n",
    "    q_best_by_policy = ddqn.policy(obs).max(1)[1].detach()\n",
    "    q_next = ddqn.target(obs).gather(1, q_best_by_policy.view(-1, 1)).squeeze().detach()\n",
    "    q_exp = q_next * GAMMA * (1 - done) + rew\n",
    "    \n",
    "    loss = compute_loss(q, q_exp.unsqueeze(1))\n",
    "    \n",
    "    logger.put('loss', loss.item())\n",
    "    logger.put('q', q.mean().item())\n",
    "    \n",
    "    ddqn_optimizer.zero_grad()\n",
    "    loss.backward()\n",
    "    ddqn_optimizer.step()"
   ]
  },
  {
   "cell_type": "code",
   "execution_count": null,
   "metadata": {},
   "outputs": [],
   "source": [
    "%tensorboard --logdir $TENSORBOARD_PATH --host localhost"
   ]
  },
  {
   "cell_type": "code",
   "execution_count": null,
   "metadata": {
    "scrolled": false
   },
   "outputs": [],
   "source": [
    "%%time\n",
    "for epoch in range(EPOCHS):\n",
    "    for episode in tqdm(range(EPISODES_PER_EPOCH), desc=f'[{epoch}]'):\n",
    "        RENDER_THIS = True if episode % (EPISODES_PER_EPOCH // RENDER_PER_EPOCH) == 0 else False\n",
    "\n",
    "        obs = torch.as_tensor(env.reset(), dtype=torch.float32).to(dev)\n",
    "        ep_ret = 0\n",
    "        ep_len = 0\n",
    "        for t in count():\n",
    "            act = select_action(obs)\n",
    "\n",
    "            next_obs, rew, done, _ = env.step(act)\n",
    "\n",
    "            ep_ret += rew\n",
    "            ep_len += 1\n",
    "            total_steps += 1\n",
    "                        \n",
    "            if RENDER_THIS:\n",
    "                env.render()\n",
    "\n",
    "            next_obs = torch.as_tensor(next_obs, dtype=torch.float32).to(dev)\n",
    "            done = False if ep_len == MAX_LEN else done\n",
    "            buffer.put(obs, act, rew, next_obs, done)\n",
    "            \n",
    "            obs = next_obs\n",
    "            \n",
    "            optimize()\n",
    "            if done or ep_len == MAX_LEN:\n",
    "                break\n",
    "        logger.put('ret', ep_ret)\n",
    "        logger.put('len', ep_len)\n",
    "        if episode % TARGET_UPDATE == 0 and episode > TARGET_UPDATE_AFTER:\n",
    "            ddqn.target.load_state_dict(ddqn.policy.state_dict())\n",
    "            \n",
    "        tb_data = logger.summarize(attributes=['loss', 'q'], fmt=False)\n",
    "        ep_id = epoch * EPISODES_PER_EPOCH + episode\n",
    "        for (attr, val) in tb_data:\n",
    "            writer.add_scalar(attr, val, ep_id)\n",
    "        writer.add_scalar('return', ep_ret, ep_id)\n",
    "        writer.add_scalar('length', ep_len, ep_id)\n",
    "        writer.flush()\n",
    "\n",
    "    print(f'[{epoch}] Done: {logger.summarize(attributes=[\"ret\", \"len\"])}')\n",
    "    torch.save(ddqn.state_dict(), f'{RUN_PATH}/ddqn-{time()}-{epoch}.pt')\n",
    "print('Complete!')\n",
    "env.close()"
   ]
  }
 ],
 "metadata": {
  "file_extension": ".py",
  "kernelspec": {
   "display_name": "Python 3.7.7 64-bit ('jbr': conda)",
   "language": "python",
   "name": "python37764bitjbrcondafc333f67bcd147e89e693bf7996d3af5"
  },
  "language_info": {
   "codemirror_mode": {
    "name": "ipython",
    "version": 3
   },
   "file_extension": ".py",
   "mimetype": "text/x-python",
   "name": "python",
   "nbconvert_exporter": "python",
   "pygments_lexer": "ipython3",
   "version": "3.7.7"
  },
  "mimetype": "text/x-python",
  "name": "python",
  "npconvert_exporter": "python",
  "pycharm": {
   "stem_cell": {
    "cell_type": "raw",
    "metadata": {
     "collapsed": false
    },
    "source": []
   }
  },
  "pygments_lexer": "ipython3",
  "version": 3
 },
 "nbformat": 4,
 "nbformat_minor": 4
}
