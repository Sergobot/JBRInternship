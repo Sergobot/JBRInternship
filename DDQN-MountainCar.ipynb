{
 "cells": [
  {
   "cell_type": "code",
   "execution_count": 1,
   "metadata": {
    "pycharm": {
     "is_executing": false
    }
   },
   "outputs": [],
   "source": [
    "import torch\n",
    "from torch import nn, optim\n",
    "import torch.nn.functional as F\n",
    "import gym\n",
    "import numpy as np\n",
    "from itertools import count\n",
    "from my_utils import ReplayBuffer, construct_nn, Logger"
   ]
  },
  {
   "cell_type": "code",
   "execution_count": 2,
   "metadata": {
    "pycharm": {
     "is_executing": false
    }
   },
   "outputs": [],
   "source": [
    "SEED = 11\n",
    "torch.manual_seed(SEED)\n",
    "np.random.seed(SEED)"
   ]
  },
  {
   "cell_type": "code",
   "execution_count": 3,
   "metadata": {
    "pycharm": {
     "is_executing": false
    }
   },
   "outputs": [],
   "source": [
    "dev = torch.device('cuda') if torch.cuda.is_available() else torch.device('cpu')"
   ]
  },
  {
   "cell_type": "code",
   "execution_count": 4,
   "metadata": {},
   "outputs": [],
   "source": [
    "class DDQN(nn.Module):\n",
    "    def __init__(self, obs_dim, act_dim, sizes):\n",
    "        super().__init__()\n",
    "        self.policy = construct_nn([obs_dim] + sizes + [act_dim])\n",
    "        self.target = construct_nn([obs_dim] + sizes + [act_dim])\n",
    "        self.target.load_state_dict(self.policy.state_dict())\n",
    "        self.target.eval()\n",
    "    \n",
    "    def act(self, obs):\n",
    "        with torch.no_grad():\n",
    "            return self.policy(obs).max(0)[1].view(1, 1)"
   ]
  },
  {
   "cell_type": "code",
   "execution_count": 5,
   "metadata": {
    "pycharm": {
     "is_executing": false
    }
   },
   "outputs": [],
   "source": [
    "BATCH_SIZE = 256\n",
    "GAMMA = 0.99\n",
    "TARGET_UPDATE = 10\n",
    "TARGET_UPDATE_AFTER = 30\n",
    "NETWORK_SIZES = [24, 48]\n",
    "LEARNING_RATE = 1e-5\n",
    "MAX_LEN = 200\n",
    "EPS_START = 0.95\n",
    "EPS_END = 0.05\n",
    "EPS_DECAY = 200\n",
    "\n",
    "EPOCHS = 10\n",
    "EPISODES_PER_EPOCH = 50\n",
    "\n",
    "start = 0\n",
    "total_steps = 0\n",
    "\n",
    "def avg(l): return sum(l) / len(l)\n",
    "\n",
    "logger = Logger()\n",
    "logger.add_attribute('ret', [max, avg])\n",
    "logger.add_attribute('len', [min, avg])\n",
    "logger.add_attribute('loss', [sum])"
   ]
  },
  {
   "cell_type": "code",
   "execution_count": 6,
   "metadata": {
    "pycharm": {
     "is_executing": false
    }
   },
   "outputs": [],
   "source": [
    "env = gym.make('MountainCar-v0')\n",
    "env.seed(SEED)\n",
    "obs_dim = env.observation_space.shape[0]\n",
    "act_dim = env.action_space.n"
   ]
  },
  {
   "cell_type": "code",
   "execution_count": 7,
   "metadata": {},
   "outputs": [],
   "source": [
    "buffer = ReplayBuffer(obs_dim, 1, 100000)"
   ]
  },
  {
   "cell_type": "code",
   "execution_count": 8,
   "metadata": {
    "pycharm": {
     "is_executing": false
    }
   },
   "outputs": [],
   "source": [
    "ddqn = DDQN(obs_dim, act_dim, NETWORK_SIZES).to(dev)\n",
    "ddqn_optimizer = optim.Adam(ddqn.policy.parameters(), lr=LEARNING_RATE)"
   ]
  },
  {
   "cell_type": "code",
   "execution_count": 9,
   "metadata": {},
   "outputs": [],
   "source": [
    "def compute_loss(q, q_exp):\n",
    "    return F.mse_loss(q, q_exp)"
   ]
  },
  {
   "cell_type": "code",
   "execution_count": 11,
   "metadata": {},
   "outputs": [],
   "source": [
    "def select_action(obs):\n",
    "    eps = np.random.random(1)[0]\n",
    "    eps_threshold = EPS_END + (EPS_START - EPS_END) * np.exp(-1. * total_steps / EPS_DECAY)\n",
    "    \n",
    "    if eps > eps_threshold:\n",
    "        return ddqn.act(obs).item()\n",
    "    else:\n",
    "        return np.random.choice(act_dim)"
   ]
  },
  {
   "cell_type": "code",
   "execution_count": 10,
   "metadata": {},
   "outputs": [],
   "source": [
    "def optimize():\n",
    "    if len(buffer) < BATCH_SIZE:\n",
    "        return\n",
    "    \n",
    "    batch = buffer.sample_batch(BATCH_SIZE)\n",
    "    obs, act, rew, next_obs, done = \\\n",
    "            batch['obs'], batch['act'], batch['rew'], batch['next_obs'], batch['done']\n",
    "    \n",
    "    q = ddqn.policy(obs).gather(1, torch.as_tensor(act, dtype=torch.long))\n",
    "    q_best_by_policy = ddqn.policy(obs).max(1)[1].detach()\n",
    "    q_next = ddqn.target(obs).gather(1, q_best_by_policy.view(-1, 1)).squeeze().detach()\n",
    "    q_exp = q_next * GAMMA * (1 - done) + rew\n",
    "    \n",
    "    loss = compute_loss(q, q_exp.unsqueeze(1))\n",
    "    logger.put('loss', loss.item())\n",
    "    \n",
    "    ddqn_optimizer.zero_grad()\n",
    "    loss.backward()\n",
    "    ddqn_optimizer.step()"
   ]
  },
  {
   "cell_type": "code",
   "execution_count": 12,
   "metadata": {
    "scrolled": false
   },
   "outputs": [
    {
     "name": "stdout",
     "output_type": "stream",
     "text": [
      "[0] Epoch has started!\n",
      "[0] ret_max=-200.0000; ret_avg=-200.0000; len_max=200.0000; len_avg=200.0000; loss_sum=3291.1614\n",
      "[1] Epoch has started!\n",
      "[1] ret_max=-200.0000; ret_avg=-200.0000; len_max=200.0000; len_avg=200.0000; loss_sum=356.5439\n",
      "[2] Epoch has started!\n",
      "[2] ret_max=-188.0000; ret_avg=-199.7600; len_max=200.0000; len_avg=199.7600; loss_sum=221.7297\n",
      "[3] Epoch has started!\n",
      "[3] ret_max=-200.0000; ret_avg=-200.0000; len_max=200.0000; len_avg=200.0000; loss_sum=159.6550\n",
      "[4] Epoch has started!\n",
      "[4] ret_max=-200.0000; ret_avg=-200.0000; len_max=200.0000; len_avg=200.0000; loss_sum=124.3100\n",
      "[5] Epoch has started!\n",
      "[5] ret_max=-200.0000; ret_avg=-200.0000; len_max=200.0000; len_avg=200.0000; loss_sum=102.4893\n",
      "[6] Epoch has started!\n",
      "[6] ret_max=-200.0000; ret_avg=-200.0000; len_max=200.0000; len_avg=200.0000; loss_sum=87.1982\n",
      "[7] Epoch has started!\n",
      "[7] ret_max=-200.0000; ret_avg=-200.0000; len_max=200.0000; len_avg=200.0000; loss_sum=74.8034\n",
      "[8] Epoch has started!\n",
      "[8] ret_max=-200.0000; ret_avg=-200.0000; len_max=200.0000; len_avg=200.0000; loss_sum=68.8360\n",
      "[9] Epoch has started!\n",
      "[9] ret_max=-200.0000; ret_avg=-200.0000; len_max=200.0000; len_avg=200.0000; loss_sum=60.4841\n",
      "Complete!\n",
      "CPU times: user 8min 46s, sys: 9min 31s, total: 18min 17s\n",
      "Wall time: 10min 37s\n"
     ]
    }
   ],
   "source": [
    "%%time\n",
    "for epoch in range(EPOCHS):\n",
    "    print(f'[{epoch}] Epoch has started!')\n",
    "    for episode in range(EPISODES_PER_EPOCH):\n",
    "#         if episode % (EPISODES_PER_EPOCH / 5) == 0:\n",
    "#             print([f'[{epoch}] e{episode} has started!'])\n",
    "        obs = torch.as_tensor(env.reset(), dtype=torch.float32)\n",
    "        ep_ret = 0\n",
    "        ep_len = 0\n",
    "        ep_loss = 0\n",
    "        for t in count():\n",
    "            act = select_action(obs)\n",
    "            \n",
    "            next_obs, rew, done, _ = env.step(act)\n",
    "                \n",
    "            ep_ret += rew\n",
    "            ep_len += 1\n",
    "            total_steps += 1\n",
    "                        \n",
    "            if episode % (EPISODES_PER_EPOCH // 5) == 0:\n",
    "                env.render()\n",
    "\n",
    "            next_obs = torch.as_tensor(next_obs, dtype=torch.float32)\n",
    "            done = False if ep_len == MAX_LEN else done\n",
    "            buffer.put(obs, act, rew, next_obs, done)\n",
    "            \n",
    "            obs = next_obs\n",
    "            \n",
    "            optimize()\n",
    "            if done or ep_len == MAX_LEN:\n",
    "                break\n",
    "        logger.put('ret', ep_ret)\n",
    "        logger.put('len', ep_len)\n",
    "        if episode % TARGET_UPDATE == 0 and episode > TARGET_UPDATE_AFTER:\n",
    "            ddqn.target.load_state_dict(ddqn.policy.state_dict())\n",
    "    print(f'[{epoch}] Done: {logger.summarize()}')\n",
    "print('Complete!')\n",
    "env.close()"
   ]
  }
 ],
 "metadata": {
  "file_extension": ".py",
  "kernelspec": {
   "display_name": "Python 3.7.7 64-bit ('jbr': conda)",
   "language": "python",
   "name": "python37764bitjbrcondafc333f67bcd147e89e693bf7996d3af5"
  },
  "language_info": {
   "codemirror_mode": {
    "name": "ipython",
    "version": 3
   },
   "file_extension": ".py",
   "mimetype": "text/x-python",
   "name": "python",
   "nbconvert_exporter": "python",
   "pygments_lexer": "ipython3",
   "version": "3.7.7"
  },
  "mimetype": "text/x-python",
  "name": "python",
  "npconvert_exporter": "python",
  "pycharm": {
   "stem_cell": {
    "cell_type": "raw",
    "metadata": {
     "collapsed": false
    },
    "source": []
   }
  },
  "pygments_lexer": "ipython3",
  "version": 3
 },
 "nbformat": 4,
 "nbformat_minor": 4
}
