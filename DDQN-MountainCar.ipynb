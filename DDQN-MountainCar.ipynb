{
 "cells": [
  {
   "cell_type": "code",
   "execution_count": 1,
   "metadata": {
    "pycharm": {
     "is_executing": false
    }
   },
   "outputs": [],
   "source": [
    "import torch\n",
    "from torch import nn, optim\n",
    "import torch.nn.functional as F\n",
    "import gym\n",
    "from gym import wrappers\n",
    "import numpy as np\n",
    "from itertools import count\n",
    "from tqdm.notebook import tqdm\n",
    "from time import time\n",
    "import os\n",
    "import pathlib\n",
    "from torch.utils.tensorboard import SummaryWriter\n",
    "from my_utils import ReplayBuffer, construct_nn, Logger"
   ]
  },
  {
   "cell_type": "code",
   "execution_count": 2,
   "metadata": {},
   "outputs": [],
   "source": [
    "%load_ext tensorboard"
   ]
  },
  {
   "cell_type": "code",
   "execution_count": 3,
   "metadata": {
    "pycharm": {
     "is_executing": false
    }
   },
   "outputs": [],
   "source": [
    "SEED = 11\n",
    "torch.manual_seed(SEED)\n",
    "np.random.seed(SEED)"
   ]
  },
  {
   "cell_type": "code",
   "execution_count": 4,
   "metadata": {
    "pycharm": {
     "is_executing": false
    }
   },
   "outputs": [],
   "source": [
    "dev = torch.device('cuda') if torch.cuda.is_available() else torch.device('cpu')"
   ]
  },
  {
   "cell_type": "code",
   "execution_count": 5,
   "metadata": {},
   "outputs": [],
   "source": [
    "class DDQN(nn.Module):\n",
    "    def __init__(self, obs_dim, act_dim, sizes):\n",
    "        super().__init__()\n",
    "        self.policy = construct_nn([obs_dim] + sizes + [act_dim])\n",
    "        self.target = construct_nn([obs_dim] + sizes + [act_dim])\n",
    "        self.target.load_state_dict(self.policy.state_dict())\n",
    "        self.target.eval()\n",
    "    \n",
    "    def act(self, obs):\n",
    "        with torch.no_grad():\n",
    "            return self.policy(obs).max(0)[1].view(1, 1)"
   ]
  },
  {
   "cell_type": "code",
   "execution_count": 6,
   "metadata": {
    "pycharm": {
     "is_executing": false
    }
   },
   "outputs": [],
   "source": [
    "BATCH_SIZE = 64\n",
    "GAMMA = 0.99\n",
    "TARGET_UPDATE = 50\n",
    "TARGET_UPDATE_AFTER = 30\n",
    "NETWORK_SIZES = [48, 48]\n",
    "MAX_LEN = 200\n",
    "EPS_START = 0.95\n",
    "EPS_END = 0.005\n",
    "EPS_DECAY = 2000\n",
    "\n",
    "EPOCHS = 5\n",
    "EPISODES_PER_EPOCH = 50\n",
    "RENDER_PER_EPOCH = 2\n",
    "\n",
    "total_steps = 0\n",
    "\n",
    "def avg(l): return sum(l) / len(l)\n",
    "\n",
    "logger = Logger()\n",
    "logger.add_attribute('ret', [max, avg])\n",
    "logger.add_attribute('len', [min, avg])\n",
    "logger.add_attribute('loss', [avg])\n",
    "logger.add_attribute('q', [avg])\n",
    "\n",
    "RUN_ID = str(time())\n",
    "RUN_PATH = f'./ddqn/{RUN_ID}'\n",
    "if not os.path.exists(RUN_PATH) or not os.path.isdir(RUN_PATH):\n",
    "    pathlib.Path(RUN_PATH).mkdir(parents=True, exist_ok=True)\n",
    "    \n",
    "TENSORBOARD_PATH = f'./ddqn/tensorboard'\n",
    "writer = SummaryWriter(f'{TENSORBOARD_PATH}/{RUN_ID}')"
   ]
  },
  {
   "cell_type": "code",
   "execution_count": 7,
   "metadata": {
    "pycharm": {
     "is_executing": false
    }
   },
   "outputs": [],
   "source": [
    "env = gym.make('MountainCar-v0')\n",
    "env.seed(SEED)\n",
    "obs_dim = env.observation_space.shape[0]\n",
    "act_dim = env.action_space.n"
   ]
  },
  {
   "cell_type": "code",
   "execution_count": 8,
   "metadata": {},
   "outputs": [],
   "source": [
    "RENDER_THIS = False\n",
    "env = wrappers.Monitor(env, f'{RUN_PATH}/videos/', video_callable=lambda episode_id: RENDER_THIS)"
   ]
  },
  {
   "cell_type": "code",
   "execution_count": 9,
   "metadata": {},
   "outputs": [],
   "source": [
    "buffer = ReplayBuffer(obs_dim, 1, 10000, dev)"
   ]
  },
  {
   "cell_type": "code",
   "execution_count": 10,
   "metadata": {
    "pycharm": {
     "is_executing": false
    }
   },
   "outputs": [],
   "source": [
    "ddqn = DDQN(obs_dim, act_dim, NETWORK_SIZES).to(dev)\n",
    "ddqn_optimizer = optim.Adam(ddqn.policy.parameters())"
   ]
  },
  {
   "cell_type": "code",
   "execution_count": 11,
   "metadata": {},
   "outputs": [],
   "source": [
    "def compute_loss(q, q_exp):\n",
    "    return F.mse_loss(q, q_exp)"
   ]
  },
  {
   "cell_type": "code",
   "execution_count": 12,
   "metadata": {},
   "outputs": [],
   "source": [
    "def select_action(obs, randomize=True):\n",
    "    if randomize:\n",
    "        eps = np.random.random(1)[0]\n",
    "        eps_threshold = EPS_END + (EPS_START - EPS_END) * np.exp(-1. * total_steps / EPS_DECAY)\n",
    "        if eps > eps_threshold:\n",
    "            return ddqn.act(obs).item()\n",
    "    return np.random.choice(act_dim)"
   ]
  },
  {
   "cell_type": "code",
   "execution_count": 13,
   "metadata": {},
   "outputs": [],
   "source": [
    "def optimize():\n",
    "    if len(buffer) < BATCH_SIZE:\n",
    "        return\n",
    "    \n",
    "    batch = buffer.sample_batch(BATCH_SIZE)\n",
    "    obs, act, rew, next_obs, done = \\\n",
    "            batch['obs'], batch['act'], batch['rew'], batch['next_obs'], batch['done']\n",
    "    \n",
    "    q = ddqn.policy(obs).gather(1, act.long())\n",
    "    q_best_by_policy = ddqn.policy(next_obs).max(1)[1].detach()\n",
    "    q_next = ddqn.target(obs).gather(1, q_best_by_policy.view(-1, 1)).squeeze().detach()\n",
    "    q_exp = q_next * GAMMA * (1 - done) + rew\n",
    "    \n",
    "    loss = compute_loss(q, q_exp.unsqueeze(1))\n",
    "    \n",
    "    logger.put('loss', loss.item())\n",
    "    logger.put('q', q.mean().item())\n",
    "    \n",
    "    ddqn_optimizer.zero_grad()\n",
    "    loss.backward()\n",
    "    ddqn_optimizer.step()"
   ]
  },
  {
   "cell_type": "code",
   "execution_count": 14,
   "metadata": {
    "scrolled": false
   },
   "outputs": [
    {
     "data": {
      "text/plain": [
       "Reusing TensorBoard on port 6006 (pid 266506), started 2:21:07 ago. (Use '!kill 266506' to kill it.)"
      ]
     },
     "metadata": {},
     "output_type": "display_data"
    },
    {
     "data": {
      "text/html": [
       "\n",
       "      <iframe id=\"tensorboard-frame-db8431a4b46e68eb\" width=\"100%\" height=\"800\" frameborder=\"0\">\n",
       "      </iframe>\n",
       "      <script>\n",
       "        (function() {\n",
       "          const frame = document.getElementById(\"tensorboard-frame-db8431a4b46e68eb\");\n",
       "          const url = new URL(\"/\", window.location);\n",
       "          url.port = 6006;\n",
       "          frame.src = url;\n",
       "        })();\n",
       "      </script>\n",
       "  "
      ],
      "text/plain": [
       "<IPython.core.display.HTML object>"
      ]
     },
     "metadata": {},
     "output_type": "display_data"
    }
   ],
   "source": [
    "%tensorboard --logdir $TENSORBOARD_PATH --host localhost"
   ]
  },
  {
   "cell_type": "code",
   "execution_count": 15,
   "metadata": {
    "scrolled": false
   },
   "outputs": [
    {
     "data": {
      "application/vnd.jupyter.widget-view+json": {
       "model_id": "6747d465a0f9422b9134b487aa9e555f",
       "version_major": 2,
       "version_minor": 0
      },
      "text/plain": [
       "HBox(children=(FloatProgress(value=0.0, description='[0]', max=50.0, style=ProgressStyle(description_width='in…"
      ]
     },
     "metadata": {},
     "output_type": "display_data"
    },
    {
     "name": "stdout",
     "output_type": "stream",
     "text": [
      "\n",
      "[0] Done: ret_max=-84.7824; ret_avg=-143.4456; len_min=90.0000; len_avg=152.7800\n"
     ]
    },
    {
     "data": {
      "application/vnd.jupyter.widget-view+json": {
       "model_id": "a8affc3dabea436eb4ff75f4e6175f88",
       "version_major": 2,
       "version_minor": 0
      },
      "text/plain": [
       "HBox(children=(FloatProgress(value=0.0, description='[1]', max=50.0, style=ProgressStyle(description_width='in…"
      ]
     },
     "metadata": {},
     "output_type": "display_data"
    },
    {
     "name": "stdout",
     "output_type": "stream",
     "text": [
      "\n",
      "[1] Done: ret_max=-77.0586; ret_avg=-117.9509; len_min=84.0000; len_avg=127.7800\n"
     ]
    },
    {
     "data": {
      "application/vnd.jupyter.widget-view+json": {
       "model_id": "175726bfa5094f50a47ab39b3484f2a1",
       "version_major": 2,
       "version_minor": 0
      },
      "text/plain": [
       "HBox(children=(FloatProgress(value=0.0, description='[2]', max=50.0, style=ProgressStyle(description_width='in…"
      ]
     },
     "metadata": {},
     "output_type": "display_data"
    },
    {
     "name": "stdout",
     "output_type": "stream",
     "text": [
      "\n",
      "[2] Done: ret_max=-78.2371; ret_avg=-107.7594; len_min=85.0000; len_avg=117.3000\n"
     ]
    },
    {
     "data": {
      "application/vnd.jupyter.widget-view+json": {
       "model_id": "0519d5b0fc02477cab3cbb0057a69f81",
       "version_major": 2,
       "version_minor": 0
      },
      "text/plain": [
       "HBox(children=(FloatProgress(value=0.0, description='[3]', max=50.0, style=ProgressStyle(description_width='in…"
      ]
     },
     "metadata": {},
     "output_type": "display_data"
    },
    {
     "name": "stdout",
     "output_type": "stream",
     "text": [
      "\n",
      "[3] Done: ret_max=-78.1032; ret_avg=-103.0356; len_min=85.0000; len_avg=112.7600\n"
     ]
    },
    {
     "data": {
      "application/vnd.jupyter.widget-view+json": {
       "model_id": "5348ac32ae884e17b8066af00546206e",
       "version_major": 2,
       "version_minor": 0
      },
      "text/plain": [
       "HBox(children=(FloatProgress(value=0.0, description='[4]', max=50.0, style=ProgressStyle(description_width='in…"
      ]
     },
     "metadata": {},
     "output_type": "display_data"
    },
    {
     "name": "stdout",
     "output_type": "stream",
     "text": [
      "\n",
      "[4] Done: ret_max=-77.3485; ret_avg=-107.9094; len_min=84.0000; len_avg=117.8800\n",
      "Complete!\n",
      "CPU times: user 2min 44s, sys: 4.06 s, total: 2min 49s\n",
      "Wall time: 3min 22s\n"
     ]
    }
   ],
   "source": [
    "%%time\n",
    "for epoch in range(EPOCHS):\n",
    "    for episode in tqdm(range(EPISODES_PER_EPOCH), desc=f'[{epoch}]'):\n",
    "        RENDER_THIS = True if episode % (EPISODES_PER_EPOCH // RENDER_PER_EPOCH) == 0 else False\n",
    "\n",
    "        obs = torch.as_tensor(env.reset(), dtype=torch.float32).to(dev)\n",
    "        ep_ret = 0\n",
    "        ep_len = 0\n",
    "        for t in count():\n",
    "            act = select_action(obs)\n",
    "\n",
    "            next_obs, rew, done, _ = env.step(act)\n",
    "            \n",
    "            # Motivate the agent to speed up more often\n",
    "            rew += (abs(next_obs[1]) - abs(obs[1])) * 250\n",
    "\n",
    "            ep_ret += rew\n",
    "            ep_len += 1\n",
    "            total_steps += 1\n",
    "                        \n",
    "            if RENDER_THIS:\n",
    "                env.render()\n",
    "\n",
    "            next_obs = torch.as_tensor(next_obs, dtype=torch.float32).to(dev)\n",
    "            done = False if ep_len == MAX_LEN else done\n",
    "            buffer.put(obs, act, rew, next_obs, done)\n",
    "            \n",
    "            obs = next_obs\n",
    "            \n",
    "            optimize()\n",
    "            if done or ep_len == MAX_LEN:\n",
    "                break\n",
    "        logger.put('ret', ep_ret)\n",
    "        logger.put('len', ep_len)\n",
    "        if episode % TARGET_UPDATE == 0 and episode > TARGET_UPDATE_AFTER:\n",
    "            ddqn.target.load_state_dict(ddqn.policy.state_dict())\n",
    "            \n",
    "        tb_data = logger.summarize(attributes=['loss', 'q'], fmt=False)\n",
    "        ep_id = epoch * EPISODES_PER_EPOCH + episode\n",
    "        for (attr, val) in tb_data:\n",
    "            writer.add_scalar(attr, val, ep_id)\n",
    "        writer.add_scalar('return', ep_ret, ep_id)\n",
    "        writer.add_scalar('length', ep_len, ep_id)\n",
    "        writer.flush()\n",
    "\n",
    "    print(f'[{epoch}] Done: {logger.summarize(attributes=[\"ret\", \"len\"])}')\n",
    "    torch.save(ddqn.state_dict(), f'{RUN_PATH}/ddqn-{time()}-{epoch}.pt')\n",
    "print('Complete!')\n",
    "env.close()"
   ]
  }
 ],
 "metadata": {
  "file_extension": ".py",
  "kernelspec": {
   "display_name": "Python 3.7.7 64-bit ('jbr': conda)",
   "language": "python",
   "name": "python37764bitjbrcondafc333f67bcd147e89e693bf7996d3af5"
  },
  "language_info": {
   "codemirror_mode": {
    "name": "ipython",
    "version": 3
   },
   "file_extension": ".py",
   "mimetype": "text/x-python",
   "name": "python",
   "nbconvert_exporter": "python",
   "pygments_lexer": "ipython3",
   "version": "3.7.7"
  },
  "mimetype": "text/x-python",
  "name": "python",
  "npconvert_exporter": "python",
  "pycharm": {
   "stem_cell": {
    "cell_type": "raw",
    "metadata": {
     "collapsed": false
    },
    "source": []
   }
  },
  "pygments_lexer": "ipython3",
  "version": 3
 },
 "nbformat": 4,
 "nbformat_minor": 4
}
