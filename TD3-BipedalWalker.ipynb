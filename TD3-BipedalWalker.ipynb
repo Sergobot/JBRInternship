{
 "cells": [
  {
   "cell_type": "code",
   "execution_count": null,
   "metadata": {},
   "outputs": [],
   "source": [
    "import torch\n",
    "from torch import nn, optim\n",
    "import torch.nn.functional as F\n",
    "import gym\n",
    "from gym import wrappers\n",
    "import numpy as np\n",
    "from itertools import count\n",
    "from tqdm.notebook import tqdm\n",
    "from my_utils import ReplayBuffer, construct_nn, Logger\n",
    "from time import time\n",
    "import os"
   ]
  },
  {
   "cell_type": "code",
   "execution_count": null,
   "metadata": {},
   "outputs": [],
   "source": [
    "SEED = 11\n",
    "torch.manual_seed(SEED)\n",
    "np.random.seed(SEED)"
   ]
  },
  {
   "cell_type": "code",
   "execution_count": null,
   "metadata": {},
   "outputs": [],
   "source": [
    "dev = torch.device('cuda') if torch.cuda.is_available() else torch.device('cpu')"
   ]
  },
  {
   "cell_type": "code",
   "execution_count": null,
   "metadata": {},
   "outputs": [],
   "source": [
    "class Actor(nn.Module):\n",
    "    def __init__(self, obs_dim, act_dim, sizes):\n",
    "        super().__init__()\n",
    "        \n",
    "        self.pi = construct_nn([obs_dim] + sizes + [act_dim], nn.Tanh)\n",
    "        \n",
    "    def forward(self, obs):\n",
    "        return self.pi(obs)"
   ]
  },
  {
   "cell_type": "code",
   "execution_count": null,
   "metadata": {},
   "outputs": [],
   "source": [
    "class Critic(nn.Module):\n",
    "    def __init__(self, obs_dim, act_dim, sizes):\n",
    "        super().__init__()\n",
    "        \n",
    "        self.q = construct_nn([obs_dim + act_dim] + sizes + [1])\n",
    "    \n",
    "    def forward(self, obs, act):\n",
    "        return self.q(torch.cat([obs, act], -1)).squeeze(-1)"
   ]
  },
  {
   "cell_type": "code",
   "execution_count": null,
   "metadata": {},
   "outputs": [],
   "source": [
    "class TD3(nn.Module):\n",
    "    def __init__(self, obs_dim, act_dim, sizes):\n",
    "        super().__init__()\n",
    "        \n",
    "        self.actor = Actor(obs_dim, act_dim, sizes)\n",
    "        self.critic1 = Critic(obs_dim, act_dim, sizes)\n",
    "        self.critic2 = Critic(obs_dim, act_dim, sizes)\n",
    "    \n",
    "    def act(self, obs):\n",
    "        with torch.no_grad():\n",
    "            return self.actor(obs)\n",
    "    \n",
    "    def criticize(self, obs, act):\n",
    "        return self.critic1(obs, act), self.critic2(obs, act)"
   ]
  },
  {
   "cell_type": "code",
   "execution_count": null,
   "metadata": {},
   "outputs": [],
   "source": [
    "BATCH_SIZE = 100\n",
    "GAMMA = 0.99\n",
    "POLYAK = 0.995\n",
    "POLICY_UPDATE_EVERY = 2\n",
    "NETWORK_SIZES = [256, 256]\n",
    "MAX_LEN = 1600\n",
    "EPOCHS = 20\n",
    "EPISODES_PER_EPOCH = 50\n",
    "RENDER_PER_EPOCH = 1\n",
    "NOISE_LIMIT = 0.5\n",
    "NOISE_STD = 0.2\n",
    "\n",
    "total_steps = 0\n",
    "\n",
    "def avg(l): return sum(l) / len(l)\n",
    "\n",
    "logger = Logger()\n",
    "logger.add_attribute('ret', [max, avg])\n",
    "logger.add_attribute('len', [max, avg])\n",
    "\n",
    "MODEL_SAVE_PATH = './td3'\n",
    "# This will raise an exception if there's already a file with this name\n",
    "if not os.path.exists(MODEL_SAVE_PATH) or not os.path.isdir(MODEL_SAVE_PATH):\n",
    "    os.mkdir(MODEL_SAVE_PATH)"
   ]
  },
  {
   "cell_type": "code",
   "execution_count": null,
   "metadata": {},
   "outputs": [],
   "source": [
    "env = gym.make('BipedalWalker-v3')\n",
    "env.seed(SEED)\n",
    "obs_dim = env.observation_space.shape[0]\n",
    "act_dim = env.action_space.shape[0]\n",
    "act_high = torch.as_tensor(env.action_space.high, dtype=torch.float32).to(dev)\n",
    "act_low = torch.as_tensor(env.action_space.low, dtype=torch.float32).to(dev)"
   ]
  },
  {
   "cell_type": "code",
   "execution_count": null,
   "metadata": {},
   "outputs": [],
   "source": [
    "RENDER_THIS = False\n",
    "env = wrappers.Monitor(env, f'./videos/{str(time())}/', video_callable=lambda episode_id: RENDER_THIS)"
   ]
  },
  {
   "cell_type": "code",
   "execution_count": null,
   "metadata": {},
   "outputs": [],
   "source": [
    "buffer = ReplayBuffer(obs_dim, act_dim, 5 * EPISODES_PER_EPOCH * MAX_LEN, dev)"
   ]
  },
  {
   "cell_type": "code",
   "execution_count": null,
   "metadata": {},
   "outputs": [],
   "source": [
    "td3 = TD3(obs_dim, act_dim, NETWORK_SIZES).to(dev)\n",
    "td3_target = TD3(obs_dim, act_dim, NETWORK_SIZES).to(dev)\n",
    "td3_target.load_state_dict(td3.state_dict())\n",
    "td3_target.eval()"
   ]
  },
  {
   "cell_type": "code",
   "execution_count": null,
   "metadata": {},
   "outputs": [],
   "source": [
    "actor_optimizer = optim.Adam(td3.actor.parameters())\n",
    "critic1_optimizer = optim.Adam(td3.critic1.parameters())\n",
    "critic2_optimizer = optim.Adam(td3.critic2.parameters())"
   ]
  },
  {
   "cell_type": "code",
   "execution_count": null,
   "metadata": {},
   "outputs": [],
   "source": [
    "def compute_loss(q1, q2, q_exp):\n",
    "    return F.mse_loss(q1, q_exp) + F.mse_loss(q2, q_exp)"
   ]
  },
  {
   "cell_type": "code",
   "execution_count": null,
   "metadata": {},
   "outputs": [],
   "source": [
    "def select_action(obs, network, noisy=True):\n",
    "    act = network.act(obs)\n",
    "    if noisy:\n",
    "        noise = torch.randn_like(act) * NOISE_STD\n",
    "        noise.clamp_(-NOISE_LIMIT, NOISE_LIMIT)\n",
    "        return torch.min(torch.max(act + noise, act_low), act_high)\n",
    "    return act"
   ]
  },
  {
   "cell_type": "code",
   "execution_count": null,
   "metadata": {},
   "outputs": [],
   "source": [
    "def optimize(update_actor=False):\n",
    "    if len(buffer) < BATCH_SIZE:\n",
    "        return\n",
    "    \n",
    "    batch = buffer.sample_batch(BATCH_SIZE)\n",
    "    obs, act, rew, next_obs, done = \\\n",
    "            batch['obs'], batch['act'], batch['rew'], batch['next_obs'], batch['done']\n",
    "    \n",
    "    next_act = select_action(next_obs, td3_target)\n",
    "    with torch.no_grad():\n",
    "        q_exp = torch.min(*td3_target.criticize(next_obs, next_act)) * GAMMA * (1 - done) + rew\n",
    "    \n",
    "    q1, q2 = td3.criticize(obs, act)\n",
    "    critics_loss = compute_loss(q1, q2, q_exp)\n",
    "    \n",
    "    critic1_optimizer.zero_grad()\n",
    "    critic2_optimizer.zero_grad()\n",
    "    critics_loss.backward()\n",
    "    critic1_optimizer.step()\n",
    "    critic2_optimizer.step()\n",
    "    \n",
    "    if update_actor:\n",
    "        actor_loss = -td3.critic1(obs, td3.actor(obs)).mean()\n",
    "        \n",
    "        actor_optimizer.zero_grad()\n",
    "        actor_loss.backward()\n",
    "        actor_optimizer.step()\n",
    "\n",
    "        with torch.no_grad():\n",
    "            for p, p_target in zip(td3.actor.parameters(), td3_target.actor.parameters()):\n",
    "                p_target.data.mul_(POLYAK)\n",
    "                p_target.data.add_((1 - POLYAK) * p.data)\n",
    "            for p, p_target in zip(td3.critic1.parameters(), td3_target.critic1.parameters()):\n",
    "                p_target.data.mul_(POLYAK)\n",
    "                p_target.data.add_((1 - POLYAK) * p.data)\n",
    "            for p, p_target in zip(td3.critic2.parameters(), td3_target.critic2.parameters()):\n",
    "                p_target.data.mul_(POLYAK)\n",
    "                p_target.data.add_((1 - POLYAK) * p.data)"
   ]
  },
  {
   "cell_type": "code",
   "execution_count": null,
   "metadata": {
    "scrolled": false
   },
   "outputs": [],
   "source": [
    "%%time\n",
    "for epoch in range(EPOCHS):\n",
    "    for episode in tqdm(range(EPISODES_PER_EPOCH), desc=f'[{epoch}]'):\n",
    "        RENDER_THIS = True if episode % (EPISODES_PER_EPOCH // RENDER_PER_EPOCH) == 0 else False\n",
    "        \n",
    "        obs = torch.as_tensor(env.reset(), dtype=torch.float32).to(dev)\n",
    "        ep_ret = 0\n",
    "        ep_len = 0        \n",
    "        for t in count():\n",
    "            act = select_action(obs, td3)\n",
    "            \n",
    "            next_obs, rew, done, _ = env.step(act.cpu().numpy())\n",
    "            next_obs = torch.as_tensor(next_obs, dtype=torch.float32).to(dev)\n",
    "            done = False if ep_len == MAX_LEN else done\n",
    "\n",
    "            ep_ret += rew\n",
    "            ep_len += 1\n",
    "            total_steps += 1\n",
    "\n",
    "            if RENDER_THIS:\n",
    "                env.render()\n",
    "            \n",
    "            buffer.put(obs, act, rew, next_obs, done)\n",
    "            obs = next_obs\n",
    "            \n",
    "            optimize(total_steps % POLICY_UPDATE_EVERY)\n",
    "            \n",
    "            if done or ep_len == MAX_LEN:\n",
    "                break\n",
    "        logger.put('ret', ep_ret)\n",
    "        logger.put('len', ep_len)\n",
    "    print(f'[{epoch}] {logger.summarize()}')\n",
    "    torch.save(td3.state_dict(), f'{MODEL_SAVE_PATH}/td3-{time()}-{epoch}.pt')\n",
    "env.close()"
   ]
  }
 ],
 "metadata": {
  "kernelspec": {
   "display_name": "Python 3",
   "language": "python",
   "name": "python3"
  },
  "language_info": {
   "codemirror_mode": {
    "name": "ipython",
    "version": 3
   },
   "file_extension": ".py",
   "mimetype": "text/x-python",
   "name": "python",
   "nbconvert_exporter": "python",
   "pygments_lexer": "ipython3",
   "version": "3.7.7"
  }
 },
 "nbformat": 4,
 "nbformat_minor": 4
}
